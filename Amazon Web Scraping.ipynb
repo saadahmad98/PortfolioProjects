{
 "cells": [
  {
   "attachments": {},
   "cell_type": "markdown",
   "metadata": {},
   "source": [
    "# Amazon Web Scraping Project"
   ]
  },
  {
   "cell_type": "code",
   "execution_count": null,
   "metadata": {},
   "outputs": [],
   "source": [
    "# Import libraries \n",
    "\n",
    "from bs4 import BeautifulSoup\n",
    "import requests\n",
    "import time\n",
    "import datetime\n",
    "import smtplib"
   ]
  },
  {
   "cell_type": "code",
   "execution_count": null,
   "metadata": {},
   "outputs": [],
   "source": [
    "# Connect to the website and pull in the data\n",
    "\n",
    "url = 'https://www.amazon.ca/Google-Everything-Internet-Unisex-T-shirt-Adult/dp/B01ENX6ZYY/ref=sr_1_8?crid=36MGHTT50GJQB&keywords=data%2Banalyst%2Bt-shirt&qid=1681603525&refinements=p_85%3A5690392011&rnid=5690384011&rps=1&sprefix=data%2Banalyst%2Bt-shirt%2Caps%2C105&sr=8-8&th=1&psc=1'\n",
    "\n",
    "headers = {\"User-Agent\": \"Mozilla/5.0 (Windows NT 10.0; Win64; x64) AppleWebKit/537.36 (KHTML, like Gecko) Chrome/111.0.0.0 Safari/537.36\", \"Accept-Encoding\":\"gzip, deflate\", \"Accept\":\"text/html,application/xhtml+xml,application/xml;q=0.9,*/*;q=0.8\", \"DNT\":\"1\",\"Connection\":\"close\", \"Upgrade-Insecure-Requests\":\"1\"}\n",
    "\n",
    "page = requests.get(url, headers=headers)\n",
    "\n",
    "soup1 = BeautifulSoup(page.content, 'html.parser')\n",
    "\n",
    "soup2 = BeautifulSoup(soup1.prettify(), 'html.parser')\n",
    "\n",
    "product = soup2.find(id='productTitle').get_text()\n",
    "\n",
    "price = soup2.find(\"span\", {\"class\": \"a-offscreen\"}).get_text()\n",
    "\n",
    "print(product)\n",
    "print(price)"
   ]
  },
  {
   "cell_type": "code",
   "execution_count": null,
   "metadata": {},
   "outputs": [],
   "source": [
    "# Clean up the data output\n",
    "\n",
    "price = price.strip()[1:]\n",
    "product = product.strip()\n",
    "\n",
    "print(product)\n",
    "print(price)"
   ]
  },
  {
   "cell_type": "code",
   "execution_count": null,
   "metadata": {},
   "outputs": [],
   "source": [
    "# Create a timestamp for your output to track when the data is collected\n",
    "\n",
    "import datetime\n",
    "\n",
    "today = datetime.date.today()\n",
    "\n",
    "print(today)"
   ]
  },
  {
   "cell_type": "code",
   "execution_count": null,
   "metadata": {},
   "outputs": [],
   "source": [
    "# Create a csv file and write the headers and data into the file\n",
    "\n",
    "import csv\n",
    "\n",
    "header = ['Product', 'Price', 'Date']\n",
    "data = [product, price, today]\n",
    "\n",
    "#with open('AmazonWebScraperDataset.csv', 'w', newline='', encoding='UTF8') as f:\n",
    "    #writer = csv.writer(f)\n",
    "    #writer.writerow(header)\n",
    "    #writer.writerow(data)"
   ]
  },
  {
   "cell_type": "code",
   "execution_count": null,
   "metadata": {},
   "outputs": [],
   "source": [
    "# Reading results from the csv file\n",
    "\n",
    "import pandas as pd\n",
    "\n",
    "df = pd.read_csv('C:/Users/saada/Documents/Jupyter Notebooks/AmazonWebScraperDataset.csv')\n",
    "\n",
    "print(df)"
   ]
  },
  {
   "cell_type": "code",
   "execution_count": null,
   "metadata": {},
   "outputs": [],
   "source": [
    "# Now we are appending data to the csv\n",
    "\n",
    "with open('AmazonWebScraperDataset.csv', 'a+', newline='', encoding='UTF8') as f:\n",
    "    writer = csv.writer(f)\n",
    "    writer.writerow(data)"
   ]
  },
  {
   "cell_type": "code",
   "execution_count": null,
   "metadata": {},
   "outputs": [],
   "source": [
    "# Combine all of the above code into one function\n",
    "\n",
    "def check_price():\n",
    "    url = 'https://www.amazon.ca/Google-Everything-Internet-Unisex-T-shirt-Adult/dp/B01ENX6ZYY/ref=sr_1_8?crid=36MGHTT50GJQB&keywords=data%2Banalyst%2Bt-shirt&qid=1681603525&refinements=p_85%3A5690392011&rnid=5690384011&rps=1&sprefix=data%2Banalyst%2Bt-shirt%2Caps%2C105&sr=8-8&th=1&psc=1'\n",
    "\n",
    "    headers = {\"User-Agent\": \"Mozilla/5.0 (Windows NT 10.0; Win64; x64) AppleWebKit/537.36 (KHTML, like Gecko) Chrome/111.0.0.0 Safari/537.36\", \"Accept-Encoding\":\"gzip, deflate\", \"Accept\":\"text/html,application/xhtml+xml,application/xml;q=0.9,*/*;q=0.8\", \"DNT\":\"1\",\"Connection\":\"close\", \"Upgrade-Insecure-Requests\":\"1\"}\n",
    "\n",
    "    page = requests.get(url, headers=headers)\n",
    "\n",
    "    soup1 = BeautifulSoup(page.content, 'html.parser')\n",
    "\n",
    "    soup2 = BeautifulSoup(soup1.prettify(), 'html.parser')\n",
    "\n",
    "    product = soup2.find(id='productTitle').get_text()\n",
    "\n",
    "    price = soup2.find(\"span\", {\"class\": \"a-offscreen\"}).get_text()\n",
    "\n",
    "    price = price.strip()[1:]\n",
    "    product = product.strip()\n",
    "\n",
    "    import datetime\n",
    "\n",
    "    today = datetime.date.today()\n",
    "\n",
    "    import csv\n",
    "\n",
    "    header = ['Product', 'Price', 'Date']\n",
    "    data = [product, price, today]\n",
    "\n",
    "    with open('AmazonWebScraperDataset.csv', 'a+', newline='', encoding='UTF8') as f:\n",
    "        writer = csv.writer(f)\n",
    "        writer.writerow(data)"
   ]
  },
  {
   "cell_type": "code",
   "execution_count": null,
   "metadata": {},
   "outputs": [],
   "source": [
    "# Runs the check_price function after a set time and inputs the data into the csv\n",
    "\n",
    "while(True): \n",
    "        check_price()\n",
    "        time.sleep(86400)"
   ]
  },
  {
   "cell_type": "code",
   "execution_count": null,
   "metadata": {},
   "outputs": [],
   "source": [
    "# Run to read the updated csv file\n",
    "\n",
    "import pandas as pd\n",
    "\n",
    "df = pd.read_csv('C:/Users/saada/Documents/Jupyter Notebooks/AmazonWebScraperDataset.csv')\n",
    "\n",
    "print(df)"
   ]
  },
  {
   "cell_type": "code",
   "execution_count": null,
   "metadata": {},
   "outputs": [],
   "source": [
    "# This is to send an email to myself if the price meets the set condition\n",
    "\n",
    "def send_mail():\n",
    "    server = smtplib.SMTP_SSL('smtp.gmail.com', 465)\n",
    "    server.ehlo()\n",
    "    #server.starttls()\n",
    "    server.ehlo()\n",
    "    server.login('xxxxxx@gmail.com ', 'xxxxxxxxxxxxxx')\n",
    "\n",
    "    subject = \"The shirt you want is below $15! Now is your chance to buy!\"\n",
    "    body = \"Now is your chance to pick up the shirt for under $15!\"\n",
    "\n",
    "    msg = f\"Subject: {subject}\\n\\n{body}\"\n",
    "\n",
    "    server.sendmail (\n",
    "      'xxxxxx@gmail.com',\n",
    "      msg     \n",
    "    )"
   ]
  }
 ],
 "metadata": {
  "kernelspec": {
   "display_name": "base",
   "language": "python",
   "name": "python3"
  },
  "language_info": {
   "codemirror_mode": {
    "name": "ipython",
    "version": 3
   },
   "file_extension": ".py",
   "mimetype": "text/x-python",
   "name": "python",
   "nbconvert_exporter": "python",
   "pygments_lexer": "ipython3",
   "version": "3.10.9"
  },
  "orig_nbformat": 4
 },
 "nbformat": 4,
 "nbformat_minor": 2
}
